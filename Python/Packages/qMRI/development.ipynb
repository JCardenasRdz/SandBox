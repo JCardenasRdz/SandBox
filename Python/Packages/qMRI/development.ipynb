{
 "cells": [
  {
   "cell_type": "code",
   "execution_count": 52,
   "metadata": {
    "collapsed": false
   },
   "outputs": [],
   "source": [
    "import numpy as np\n",
    "import matplotlib.pyplot as plt\n",
    "\n",
    "%matplotlib inline\n",
    "%run qMRI.py\n",
    "\n",
    "a = [0.9, 0.7, 0.5, 0.5]\n",
    "b = [2,1,1,1]\n",
    "c = [0,1,4.2,-5.6]\n",
    "x = np.linspace(-20,20,101)\n",
    "\n",
    "yobserved = Lorentzians(x,a,b,c)\n",
    "yobserved = yobserved + np.random.normal(0,.05,yobserved.shape)"
   ]
  },
  {
   "cell_type": "code",
   "execution_count": 53,
   "metadata": {
    "collapsed": false
   },
   "outputs": [],
   "source": [
    "xpredicted, Shat, xMatrix = lorentzian_fit(x,yobserved,c, repetitions = 10)"
   ]
  },
  {
   "cell_type": "code",
   "execution_count": 54,
   "metadata": {
    "collapsed": false
   },
   "outputs": [
    {
     "data": {
      "image/png": "[encoded data removed]",
      "text/plain": [
       "<matplotlib.figure.Figure at 0x116341a20>"
      ]
     },
     "metadata": {},
     "output_type": "display_data"
    }
   ],
   "source": [
    "plt.plot(x,Shat,x,yobserved,'or');"
   ]
  },
  {
   "cell_type": "code",
   "execution_count": 49,
   "metadata": {
    "collapsed": false
   },
   "outputs": [
    {
     "data": {
      "image/png": "[encoded data removed]",
      "text/plain": [
       "<matplotlib.figure.Figure at 0x116332400>"
      ]
     },
     "metadata": {},
     "output_type": "display_data"
    }
   ],
   "source": [
    "plt.hist(xMatrix[2,:]);"
   ]
  },
  {
   "cell_type": "code",
   "execution_count": 50,
   "metadata": {
    "collapsed": false
   },
   "outputs": [
    {
     "data": {
      "text/html": [
       "<div>\n",
       "<table border=\"1\" class=\"dataframe\">\n",
       "  <thead>\n",
       "    <tr style=\"text-align: right;\">\n",
       "      <th></th>\n",
       "      <th>0</th>\n",
       "      <th>1</th>\n",
       "      <th>2</th>\n",
       "    </tr>\n",
       "  </thead>\n",
       "  <tbody>\n",
       "    <tr>\n",
       "      <th>0</th>\n",
       "      <td>0.924781</td>\n",
       "      <td>2.027385</td>\n",
       "      <td>0.070000</td>\n",
       "    </tr>\n",
       "    <tr>\n",
       "      <th>1</th>\n",
       "      <td>1.000000</td>\n",
       "      <td>0.807393</td>\n",
       "      <td>0.984988</td>\n",
       "    </tr>\n",
       "    <tr>\n",
       "      <th>2</th>\n",
       "      <td>1.000000</td>\n",
       "      <td>0.763017</td>\n",
       "      <td>4.192914</td>\n",
       "    </tr>\n",
       "    <tr>\n",
       "      <th>3</th>\n",
       "      <td>0.543707</td>\n",
       "      <td>1.007405</td>\n",
       "      <td>-5.598004</td>\n",
       "    </tr>\n",
       "  </tbody>\n",
       "</table>\n",
       "</div>"
      ],
      "text/plain": [
       "          0         1         2\n",
       "0  0.924781  2.027385  0.070000\n",
       "1  1.000000  0.807393  0.984988\n",
       "2  1.000000  0.763017  4.192914\n",
       "3  0.543707  1.007405 -5.598004"
      ]
     },
     "execution_count": 50,
     "metadata": {},
     "output_type": "execute_result"
    }
   ],
   "source": [
    "pd.DataFrame( np.mean(xMatrix,axis=1).reshape(4,3) )"
   ]
  },
  {
   "cell_type": "code",
   "execution_count": 24,
   "metadata": {
    "collapsed": false
   },
   "outputs": [
    {
     "data": {
      "text/plain": [
       "(100,)"
      ]
     },
     "execution_count": 24,
     "metadata": {},
     "output_type": "execute_result"
    }
   ],
   "source": [
    "xMatrix[0,:].shape"
   ]
  },
  {
   "cell_type": "code",
   "execution_count": 31,
   "metadata": {
    "collapsed": false
   },
   "outputs": [
    {
     "data": {
      "text/plain": [
       "array([[ 0.955072  ,  0.95507201,  0.95507212,  0.95507199,  0.95507205,\n",
       "         0.95507199,  0.95507202,  0.95507207,  0.95507196,  0.95507199,\n",
       "         0.95507206,  0.95507197,  0.95507199,  0.95507208,  0.95507204,\n",
       "         0.95507172,  0.95507216,  0.95507214,  0.95507205,  0.95507202,\n",
       "         0.95507159,  0.95507202,  0.955072  ,  0.95507208,  0.95507206,\n",
       "         0.95507201,  0.95507164,  0.95507205,  0.95507214,  0.955072  ,\n",
       "         0.95507204,  0.95507201,  0.95507213,  0.95507176,  0.95507201,\n",
       "         0.95507119,  0.955072  ,  0.95507208,  0.95507203,  0.95507205,\n",
       "         0.95507209,  0.95507209,  0.95507207,  0.95507216,  0.95507204,\n",
       "         0.95507209,  0.95507191,  0.95507215,  0.95507205,  0.95507127,\n",
       "         0.9550721 ,  0.95507204,  0.95507202,  0.95507211,  0.95507161,\n",
       "         0.95507203,  0.95507204,  0.95507206,  0.95507209,  0.95507202,\n",
       "         0.95507192,  0.9550721 ,  0.95507212,  0.95507206,  0.95507199,\n",
       "         0.95507188,  0.955072  ,  0.95507199,  0.95507207,  0.95507204,\n",
       "         0.95507195,  0.95507214,  0.95507198,  0.955072  ,  0.95507203,\n",
       "         0.95507219,  0.95507185,  0.955072  ,  0.95507189,  0.95507196,\n",
       "         0.9550722 ,  0.95507206,  0.95507204,  0.95507201,  0.95507212,\n",
       "         0.95507161,  0.95507204,  0.95507205,  0.95507169,  0.95507212,\n",
       "         0.9550712 ,  0.95507204,  0.95507198,  0.955072  ,  0.95507199,\n",
       "         0.95507208,  0.95507208,  0.95507206,  0.95507179,  0.95507199],\n",
       "       [ 1.94211049,  1.94211046,  1.94211023,  1.9421105 ,  1.94211038,\n",
       "         1.9421105 ,  1.94211045,  1.94211033,  1.94211056,  1.94211051,\n",
       "         1.94211036,  1.94211056,  1.9421105 ,  1.94211032,  1.94211041,\n",
       "         1.94211107,  1.94211015,  1.9421102 ,  1.94211039,  1.94211045,\n",
       "         1.94211135,  1.94211045,  1.94211048,  1.94211032,  1.94211036,\n",
       "         1.94211048,  1.94211124,  1.94211038,  1.94211019,  1.9421105 ,\n",
       "         1.9421104 ,  1.94211047,  1.94211022,  1.94211098,  1.94211047,\n",
       "         1.94211218,  1.94211048,  1.94211031,  1.94211043,  1.94211037,\n",
       "         1.94211031,  1.94211031,  1.94211033,  1.94211016,  1.94211041,\n",
       "         1.9421103 ,  1.94211067,  1.94211018,  1.94211039,  1.942112  ,\n",
       "         1.94211028,  1.94211041,  1.94211044,  1.94211026,  1.9421113 ,\n",
       "         1.94211042,  1.94211041,  1.94211035,  1.9421103 ,  1.94211045,\n",
       "         1.94211066,  1.94211028,  1.94211024,  1.94211035,  1.94211051,\n",
       "         1.94211074,  1.9421105 ,  1.9421105 ,  1.94211035,  1.94211039,\n",
       "         1.94211059,  1.94211019,  1.94211053,  1.9421105 ,  1.94211042,\n",
       "         1.94211008,  1.94211081,  1.94211048,  1.94211072,  1.94211057,\n",
       "         1.94211006,  1.94211035,  1.9421104 ,  1.94211047,  1.94211023,\n",
       "         1.94211131,  1.94211041,  1.94211039,  1.94211113,  1.94211024,\n",
       "         1.94211216,  1.94211041,  1.94211053,  1.9421105 ,  1.9421105 ,\n",
       "         1.94211033,  1.94211031,  1.94211035,  1.94211092,  1.9421105 ],\n",
       "       [ 0.07      ,  0.07      ,  0.07      ,  0.07      ,  0.07      ,\n",
       "         0.07      ,  0.07      ,  0.07      ,  0.07      ,  0.07      ,\n",
       "         0.07      ,  0.07      ,  0.07      ,  0.07      ,  0.07      ,\n",
       "         0.07      ,  0.07      ,  0.07      ,  0.07      ,  0.07      ,\n",
       "         0.07      ,  0.07      ,  0.07      ,  0.07      ,  0.07      ,\n",
       "         0.07      ,  0.07      ,  0.07      ,  0.07      ,  0.07      ,\n",
       "         0.07      ,  0.07      ,  0.07      ,  0.07      ,  0.07      ,\n",
       "         0.07      ,  0.07      ,  0.07      ,  0.07      ,  0.07      ,\n",
       "         0.07      ,  0.07      ,  0.07      ,  0.07      ,  0.07      ,\n",
       "         0.07      ,  0.07      ,  0.07      ,  0.07      ,  0.07      ,\n",
       "         0.07      ,  0.07      ,  0.07      ,  0.07      ,  0.07      ,\n",
       "         0.07      ,  0.07      ,  0.07      ,  0.07      ,  0.07      ,\n",
       "         0.07      ,  0.07      ,  0.07      ,  0.07      ,  0.07      ,\n",
       "         0.07      ,  0.07      ,  0.07      ,  0.07      ,  0.07      ,\n",
       "         0.07      ,  0.07      ,  0.07      ,  0.07      ,  0.07      ,\n",
       "         0.07      ,  0.07      ,  0.07      ,  0.07      ,  0.07      ,\n",
       "         0.07      ,  0.07      ,  0.07      ,  0.07      ,  0.07      ,\n",
       "         0.07      ,  0.07      ,  0.07      ,  0.07      ,  0.07      ,\n",
       "         0.07      ,  0.07      ,  0.07      ,  0.07      ,  0.07      ,\n",
       "         0.07      ,  0.07      ,  0.07      ,  0.07      ,  0.07      ],\n",
       "       [ 0.79617973,  0.79617974,  0.79617937,  0.79617974,  0.79617961,\n",
       "         0.7961797 ,  0.79617969,  0.79617964,  0.7961796 ,  0.79617968,\n",
       "         0.79617957,  0.79617973,  0.7961797 ,  0.79617962,  0.79617965,\n",
       "         0.79618009,  0.79617919,  0.79617931,  0.79617951,  0.79617964,\n",
       "         0.79618024,  0.79617971,  0.79617975,  0.79617951,  0.79617956,\n",
       "         0.79617967,  0.79618019,  0.79617959,  0.79617932,  0.79617972,\n",
       "         0.79617972,  0.79617972,  0.79617929,  0.79618004,  0.79617968,\n",
       "         0.79618076,  0.79617971,  0.79617949,  0.79617966,  0.79617959,\n",
       "         0.79617954,  0.79617948,  0.79617953,  0.79617924,  0.79617965,\n",
       "         0.7961795 ,  0.79617986,  0.79617928,  0.79617964,  0.79618065,\n",
       "         0.79617949,  0.79617971,  0.79617963,  0.79617946,  0.79618024,\n",
       "         0.79617967,  0.79617963,  0.79617955,  0.79617948,  0.79617972,\n",
       "         0.79617976,  0.79617944,  0.79617934,  0.79617969,  0.7961797 ,\n",
       "         0.7961799 ,  0.79617972,  0.79617975,  0.79617953,  0.79617963,\n",
       "         0.79617982,  0.79617931,  0.79617972,  0.79617968,  0.79617969,\n",
       "         0.79617914,  0.79617992,  0.79617968,  0.79617988,  0.79617976,\n",
       "         0.79617915,  0.79617957,  0.79617961,  0.79617971,  0.79617934,\n",
       "         0.79618021,  0.79617965,  0.79617962,  0.79618012,  0.79617941,\n",
       "         0.79618076,  0.79617965,  0.79617973,  0.79617975,  0.79617973,\n",
       "         0.79617949,  0.79617952,  0.79617953,  0.79618001,  0.7961797 ],\n",
       "       [ 0.98921702,  0.98921701,  0.98921729,  0.98921701,  0.98921711,\n",
       "         0.98921703,  0.98921705,  0.9892171 ,  0.9892171 ,  0.98921703,\n",
       "         0.98921715,  0.98921698,  0.98921703,  0.98921711,  0.98921708,\n",
       "         0.9892167 ,  0.98921741,  0.98921733,  0.98921716,  0.98921708,\n",
       "         0.98921657,  0.98921704,  0.989217  ,  0.98921719,  0.98921715,\n",
       "         0.98921705,  0.98921662,  0.98921713,  0.98921733,  0.98921702,\n",
       "         0.98921704,  0.98921703,  0.98921733,  0.98921675,  0.98921705,\n",
       "         0.98921612,  0.98921703,  0.98921721,  0.98921707,  0.98921712,\n",
       "         0.98921717,  0.98921721,  0.98921718,  0.98921738,  0.98921708,\n",
       "         0.9892172 ,  0.98921691,  0.98921736,  0.98921709,  0.98921622,\n",
       "         0.9892172 ,  0.98921704,  0.98921709,  0.98921723,  0.98921658,\n",
       "         0.98921707,  0.9892171 ,  0.98921716,  0.98921721,  0.98921703,\n",
       "         0.98921692,  0.98921724,  0.9892173 ,  0.98921706,  0.98921703,\n",
       "         0.98921687,  0.98921702,  0.989217  ,  0.98921717,  0.9892171 ,\n",
       "         0.98921694,  0.98921733,  0.98921701,  0.98921705,  0.98921705,\n",
       "         0.98921745,  0.98921685,  0.98921705,  0.98921689,  0.98921699,\n",
       "         0.98921745,  0.98921715,  0.98921711,  0.98921703,  0.9892173 ,\n",
       "         0.98921659,  0.98921708,  0.9892171 ,  0.98921668,  0.98921727,\n",
       "         0.98921612,  0.98921708,  0.98921701,  0.989217  ,  0.98921702,\n",
       "         0.9892172 ,  0.98921719,  0.98921717,  0.98921678,  0.98921703],\n",
       "       [ 5.00621625,  5.00621625,  5.00621631,  5.00621626,  5.00621626,\n",
       "         5.00621626,  5.00621626,  5.00621625,  5.00621627,  5.00621635,\n",
       "         5.00621626,  5.00621636,  5.00621628,  5.00621625,  5.00621625,\n",
       "         5.00621626,  5.00621635,  5.00621632,  5.00621636,  5.00621627,\n",
       "         5.00621626,  5.00621625,  5.00621625,  5.00621627,  5.00621626,\n",
       "         5.00621629,  5.00621626,  5.00621626,  5.00621631,  5.00621626,\n",
       "         5.00621625,  5.00621625,  5.00621635,  5.00621626,  5.00621626,\n",
       "         5.00621627,  5.00621626,  5.00621627,  5.00621626,  5.00621626,\n",
       "         5.00621626,  5.00621628,  5.00621626,  5.00621633,  5.00621625,\n",
       "         5.00621627,  5.00621625,  5.00621632,  5.00621627,  5.00621627,\n",
       "         5.0062163 ,  5.00621625,  5.00621628,  5.00621627,  5.00621626,\n",
       "         5.00621625,  5.00621626,  5.00621626,  5.00621627,  5.00621625,\n",
       "         5.00621642,  5.00621627,  5.00621633,  5.00621625,  5.00621628,\n",
       "         5.00621626,  5.00621626,  5.00621625,  5.00621627,  5.00621626,\n",
       "         5.00621625,  5.00621631,  5.0062163 ,  5.0062163 ,  5.00621625,\n",
       "         5.00621635,  5.00621626,  5.00621629,  5.00621626,  5.00621626,\n",
       "         5.00621634,  5.00621626,  5.00621626,  5.00621625,  5.00621633,\n",
       "         5.00621626,  5.00621625,  5.00621626,  5.00621626,  5.00621628,\n",
       "         5.00621628,  5.00621625,  5.0062163 ,  5.00621625,  5.00621626,\n",
       "         5.00621628,  5.00621626,  5.00621629,  5.00621626,  5.00621626]])"
      ]
     },
     "execution_count": 31,
     "metadata": {},
     "output_type": "execute_result"
    }
   ],
   "source": [
    "xMatrix"
   ]
  },
  {
   "cell_type": "code",
   "execution_count": 32,
   "metadata": {
    "collapsed": false
   },
   "outputs": [
    {
     "data": {
      "text/plain": [
       "(6, 100)"
      ]
     },
     "execution_count": 32,
     "metadata": {},
     "output_type": "execute_result"
    }
   ],
   "source": [
    "xMatrix.shape"
   ]
  },
  {
   "cell_type": "code",
   "execution_count": 37,
   "metadata": {
    "collapsed": false
   },
   "outputs": [],
   "source": [
    "import pandas as pd\n"
   ]
  },
  {
   "cell_type": "code",
   "execution_count": 38,
   "metadata": {
    "collapsed": false
   },
   "outputs": [
    {
     "data": {
      "text/html": [
       "<div>\n",
       "<table border=\"1\" class=\"dataframe\">\n",
       "  <thead>\n",
       "    <tr style=\"text-align: right;\">\n",
       "      <th></th>\n",
       "      <th>0</th>\n",
       "      <th>1</th>\n",
       "      <th>2</th>\n",
       "    </tr>\n",
       "  </thead>\n",
       "  <tbody>\n",
       "    <tr>\n",
       "      <th>0</th>\n",
       "      <td>0.955072</td>\n",
       "      <td>1.942111</td>\n",
       "      <td>0.070000</td>\n",
       "    </tr>\n",
       "    <tr>\n",
       "      <th>1</th>\n",
       "      <td>0.796180</td>\n",
       "      <td>0.989217</td>\n",
       "      <td>5.006216</td>\n",
       "    </tr>\n",
       "  </tbody>\n",
       "</table>\n",
       "</div>"
      ],
      "text/plain": [
       "          0         1         2\n",
       "0  0.955072  1.942111  0.070000\n",
       "1  0.796180  0.989217  5.006216"
      ]
     },
     "execution_count": 38,
     "metadata": {},
     "output_type": "execute_result"
    }
   ],
   "source": []
  },
  {
   "cell_type": "code",
   "execution_count": null,
   "metadata": {
    "collapsed": true
   },
   "outputs": [],
   "source": []
  }
 ],
 "metadata": {
  "anaconda-cloud": {},
  "kernelspec": {
   "display_name": "Python [conda root]",
   "language": "python",
   "name": "conda-root-py"
  },
  "language_info": {
   "codemirror_mode": {
    "name": "ipython",
    "version": 3
   },
   "file_extension": ".py",
   "mimetype": "text/x-python",
   "name": "python",
   "nbconvert_exporter": "python",
   "pygments_lexer": "ipython3",
   "version": "3.5.2"
  }
 },
 "nbformat": 4,
 "nbformat_minor": 2
}
