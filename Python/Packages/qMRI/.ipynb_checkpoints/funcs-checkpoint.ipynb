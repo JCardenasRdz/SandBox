{
 "cells": [
  {
   "cell_type": "code",
   "execution_count": 2,
   "metadata": {
    "collapsed": false
   },
   "outputs": [
    {
     "ename": "IndentationError",
     "evalue": "unexpected indent (<ipython-input-2-3d115c22d0d3>, line 49)",
     "output_type": "error",
     "traceback": [
      "\u001b[0;36m  File \u001b[0;32m\"<ipython-input-2-3d115c22d0d3>\"\u001b[0;36m, line \u001b[0;32m49\u001b[0m\n\u001b[0;31m    initial_guess_offsets)\u001b[0m\n\u001b[0m    ^\u001b[0m\n\u001b[0;31mIndentationError\u001b[0m\u001b[0;31m:\u001b[0m unexpected indent\n"
     ]
    }
   ],
   "source": [
    "import numpy as np\n",
    "from scipy.optimize import least_squares\n",
    "\n",
    "def Lorentzian(pars,xdata_):\n",
    "    \"\"\"\n",
    "    Lorentzian function for a single pool\n",
    "    \"\"\"\n",
    "    fwhm = pars[1]**2/4\n",
    "    L= (pars[0]*fwhm**2)/ ( (xdata_-pars[2])**2 + (fwhm)**2 )\n",
    "    return L\n",
    "\n",
    "def Lorentzians(xdata, Amp, Width, Center):\n",
    "    \"\"\"\n",
    "    Estimates sum of Lorentzian functions where:\n",
    "    Amp   = 1 X N lorentzian of amplitudes\n",
    "    Width = 1 X N lorentzian of widths\n",
    "    Center = 1 X N lorentzian of centers\n",
    "    xdata = 1XN indepedent variable\n",
    "    \"\"\"\n",
    "    # Estimate number of pools\n",
    "    Num_variables = Amp.shape[0] + Width.shape[0]  + Center.shape[0]\n",
    "\n",
    "    # make sure it is divisible by 3.0\n",
    "    assert (Num_variables % 3 == 0),\"Please provide 3 variables per pool\"\n",
    "\n",
    "    # calculate final output\n",
    "    num_pools = int(Num_variables/3)\n",
    "    # Preallocate output\n",
    "    Lsum = np.zeros_like(xdata)\n",
    "\n",
    "    for idx in range(num_pools):\n",
    "        # assign each variable\n",
    "        amp = Amp[idx]\n",
    "        width = Width[idx]\n",
    "        center = Center[idx]\n",
    "        # estimate signal and sum\n",
    "        Lsum += Lorentzian( [amp,width,center], xdata)\n",
    "\n",
    "    return Lsum\n",
    "\n",
    "\n",
    "def fit_Lorentzians(experimental_data, x_data, initial_guess_offsets):\n",
    "    # short hand version of\n",
    "    L = lambda pars: Lorentzians(x_data,pars[0::3], pars[1::3], pars[2::3])\n",
    "    # residual function\n",
    "    func = lambda pars: experimental_data - L(pars)\n",
    "    # perform fitting and extract parameters\n",
    "    #pars_predicted = my_lorentzian_curve_fitting(res_func,initial_guess_offsets)\n",
    "#\n",
    "    pars_predicted = least_squares(func, x0).x\n",
    "    # predict curve based on pars_predicted\n",
    "    curve_predicted = L(pars_predicted)\n",
    "    # return\n",
    "    d = {\"Predicted_Paramaters\":pars_predicted,\n",
    "        \"Predicted_Signal\":curve_predicted}\n",
    "    return d\n"
   ]
  },
  {
   "cell_type": "code",
   "execution_count": null,
   "metadata": {
    "collapsed": true
   },
   "outputs": [],
   "source": []
  }
 ],
 "metadata": {
  "anaconda-cloud": {},
  "kernelspec": {
   "display_name": "Python [conda root]",
   "language": "python",
   "name": "conda-root-py"
  },
  "language_info": {
   "codemirror_mode": {
    "name": "ipython",
    "version": 3
   },
   "file_extension": ".py",
   "mimetype": "text/x-python",
   "name": "python",
   "nbconvert_exporter": "python",
   "pygments_lexer": "ipython3",
   "version": "3.5.2"
  }
 },
 "nbformat": 4,
 "nbformat_minor": 2
}
