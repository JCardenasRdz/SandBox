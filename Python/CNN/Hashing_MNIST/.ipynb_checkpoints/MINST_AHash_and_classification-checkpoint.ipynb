{
 "cells": [
  {
   "cell_type": "markdown",
   "metadata": {},
   "source": [
    "# Classification of MNIST dataset digits\n",
    "## Labels = 10\n",
    "## Training Samples =  60,000\n",
    "## Testing Samples =   10,000"
   ]
  },
  {
   "cell_type": "code",
   "execution_count": 2,
   "metadata": {
    "collapsed": false
   },
   "outputs": [
    {
     "name": "stderr",
     "output_type": "stream",
     "text": [
      "Using Theano backend.\n"
     ]
    }
   ],
   "source": [
    "# Modules\n",
    "from PIL import Image\n",
    "import dhash\n",
    "import numpy as np\n",
    "import scipy\n",
    "from keras.datasets import mnist\n",
    "import matplotlib.pyplot as plt\n",
    "from scipy.stats import randint as sp_randint\n",
    "from sklearn.model_selection import RandomizedSearchCV\n",
    "from sklearn import tree\n",
    "from sklearn import metrics\n",
    "\n",
    "%matplotlib inline\n",
    "np.random.seed(123)  # for reproducibility\n"
   ]
  },
  {
   "cell_type": "markdown",
   "metadata": {},
   "source": [
    "## 2. Load MNIST data from keras"
   ]
  },
  {
   "cell_type": "code",
   "execution_count": 57,
   "metadata": {
    "collapsed": false
   },
   "outputs": [],
   "source": [
    "(X_train, Y_train), (X_test, Y_test) = mnist.load_data()\n",
    "\n",
    "def Ahash(Img, size):\n",
    "    Img  = Image.fromarray(X_train[0]).resize((size,size)).getdata()\n",
    "    Img = np.array(list(Img))\n",
    "    bool_image = Img > np.mean(Img)\n",
    "    Ahash_ = np.zeros(len(bool_image))\n",
    "    Ahash_[bool_image] = int(1)\n",
    "\n",
    "    return Ahash_\n"
   ]
  },
  {
   "cell_type": "markdown",
   "metadata": {},
   "source": [
    "## 3. Image Hashing on rows and columns  for training set"
   ]
  },
  {
   "cell_type": "code",
   "execution_count": 60,
   "metadata": {
    "collapsed": false
   },
   "outputs": [
    {
     "data": {
      "text/plain": [
       "(16,)"
      ]
     },
     "execution_count": 60,
     "metadata": {},
     "output_type": "execute_result"
    }
   ],
   "source": [
    "hash.shape"
   ]
  },
  {
   "cell_type": "code",
   "execution_count": 61,
   "metadata": {
    "collapsed": false
   },
   "outputs": [],
   "source": [
    "# size of image and output format\n",
    "size = 4\n",
    "X = X_train\n",
    "\n",
    "#preallocate\n",
    "X_train_hashed = np.zeros((X.shape[0], size**2));\n",
    "\n",
    "for idx , Img in enumerate(X):\n",
    "    X_train_hashed[idx,:]  = Ahash(Img, size)"
   ]
  },
  {
   "cell_type": "markdown",
   "metadata": {},
   "source": [
    "## 4. Image Hashing on rows and columns  for training set"
   ]
  },
  {
   "cell_type": "code",
   "execution_count": 62,
   "metadata": {
    "collapsed": false
   },
   "outputs": [],
   "source": [
    "X = X_test\n",
    "X_test_hashed = np.zeros((X.shape[0], size**2));\n",
    "\n",
    "for idx , Img in enumerate(X):\n",
    "    X_test_hashed[idx,:]  = Ahash(Img, size)"
   ]
  },
  {
   "cell_type": "markdown",
   "metadata": {},
   "source": [
    "## 6. Random Forest Classifier "
   ]
  },
  {
   "cell_type": "code",
   "execution_count": 71,
   "metadata": {
    "collapsed": false
   },
   "outputs": [],
   "source": [
    "from sklearn.ensemble import RandomForestClassifier\n",
    "RFC = RandomForestClassifier(n_estimators=100)\n",
    "RFC = RFC.fit(X_train_hashed, Y_train)\n",
    "y_pred = RFC.predict(X_test_hashed)"
   ]
  },
  {
   "cell_type": "code",
   "execution_count": 72,
   "metadata": {
    "collapsed": false
   },
   "outputs": [
    {
     "name": "stdout",
     "output_type": "stream",
     "text": [
      "Classification Report:\n",
      "             precision    recall  f1-score   support\n",
      "\n",
      "          0       0.92      0.91      0.92       980\n",
      "          1       0.95      0.95      0.95      1135\n",
      "          2       0.80      0.85      0.82      1032\n",
      "          3       0.81      0.74      0.77      1010\n",
      "          4       0.86      0.81      0.83       982\n",
      "          5       0.80      0.80      0.80       892\n",
      "          6       0.88      0.90      0.89       958\n",
      "          7       0.87      0.86      0.87      1028\n",
      "          8       0.77      0.75      0.76       974\n",
      "          9       0.77      0.84      0.80      1009\n",
      "\n",
      "avg / total       0.84      0.84      0.84     10000\n",
      "\n",
      "Cohen kappa Score:\n",
      "0.825370712078\n",
      "Hamming Loss Score:\n",
      "0.1571\n"
     ]
    }
   ],
   "source": [
    "Yreal = Y_test\n",
    "Ypred = y_pred\n",
    "print(\"Classification Report:\\n%s\" % metrics.classification_report(Y_test, Ypred))\n",
    "print(\"Cohen kappa Score:\\n%s\" % metrics.cohen_kappa_score(Y_test, Ypred))\n",
    "print(\"Hamming Loss Score:\\n%s\" % metrics.hamming_loss(Y_test, Ypred))"
   ]
  },
  {
   "cell_type": "code",
   "execution_count": null,
   "metadata": {
    "collapsed": true
   },
   "outputs": [],
   "source": []
  },
  {
   "cell_type": "code",
   "execution_count": 64,
   "metadata": {
    "collapsed": false
   },
   "outputs": [
    {
     "name": "stdout",
     "output_type": "stream",
     "text": [
      "Fitting 4 folds for each of 10 candidates, totalling 40 fits\n"
     ]
    },
    {
     "name": "stderr",
     "output_type": "stream",
     "text": [
      "[Parallel(n_jobs=-1)]: Done  40 out of  40 | elapsed:  4.2min finished\n"
     ]
    },
    {
     "data": {
      "text/plain": [
       "RandomizedSearchCV(cv=4, error_score='raise',\n",
       "          estimator=RandomForestClassifier(bootstrap=True, class_weight=None, criterion='gini',\n",
       "            max_depth=None, max_features='auto', max_leaf_nodes=None,\n",
       "            min_impurity_split=1e-07, min_samples_leaf=1,\n",
       "            min_samples_split=2, min_weight_fraction_leaf=0.0,\n",
       "            n_estimators=10, n_jobs=1, oob_score=False, random_state=None,\n",
       "            verbose=0, warm_start=False),\n",
       "          fit_params={}, iid=True, n_iter=10, n_jobs=-1,\n",
       "          param_distributions={'n_estimators': <scipy.stats._distn_infrastructure.rv_frozen object at 0x111cad128>},\n",
       "          pre_dispatch='2*n_jobs', random_state=None, refit=True,\n",
       "          return_train_score=True, scoring=None, verbose=1)"
      ]
     },
     "execution_count": 64,
     "metadata": {},
     "output_type": "execute_result"
    }
   ],
   "source": [
    "param_grid = {'n_estimators':sp_randint(2, X_train_hashed.shape[1])}\n",
    "RFC = RandomForestClassifier()\n",
    "clf = RandomizedSearchCV(RFC, param_grid, n_jobs=-1, verbose=1, cv = 4)\n",
    "clf.fit(X_train_hashed, Y_train)"
   ]
  },
  {
   "cell_type": "code",
   "execution_count": 65,
   "metadata": {
    "collapsed": false
   },
   "outputs": [
    {
     "name": "stdout",
     "output_type": "stream",
     "text": [
      "Classification Report:\n",
      "             precision    recall  f1-score   support\n",
      "\n",
      "          0       0.96      0.99      0.97       980\n",
      "          1       0.98      0.98      0.98      1135\n",
      "          2       0.95      0.95      0.95      1032\n",
      "          3       0.94      0.94      0.94      1010\n",
      "          4       0.96      0.95      0.95       982\n",
      "          5       0.94      0.94      0.94       892\n",
      "          6       0.95      0.97      0.96       958\n",
      "          7       0.96      0.96      0.96      1028\n",
      "          8       0.93      0.92      0.92       974\n",
      "          9       0.94      0.93      0.93      1009\n",
      "\n",
      "avg / total       0.95      0.95      0.95     10000\n",
      "\n",
      "Cohen kappa Score:\n",
      "0.946979923654\n",
      "Hamming Loss Score:\n",
      "0.0477\n"
     ]
    }
   ],
   "source": [
    "Yreal = Y_test\n",
    "Ypred = clf.best_estimator_.predict(X_test_hashed)\n",
    "print(\"Classification Report:\\n%s\" % metrics.classification_report(Y_test, Ypred))\n",
    "print(\"Cohen kappa Score:\\n%s\" % metrics.cohen_kappa_score(Y_test, Ypred))\n",
    "print(\"Hamming Loss Score:\\n%s\" % metrics.hamming_loss(Y_test, Ypred))"
   ]
  },
  {
   "cell_type": "code",
   "execution_count": 66,
   "metadata": {
    "collapsed": false
   },
   "outputs": [
    {
     "data": {
      "text/plain": [
       "{'n_estimators': 127}"
      ]
     },
     "execution_count": 66,
     "metadata": {},
     "output_type": "execute_result"
    }
   ],
   "source": [
    "clf.best_params_"
   ]
  },
  {
   "cell_type": "code",
   "execution_count": null,
   "metadata": {
    "collapsed": true
   },
   "outputs": [],
   "source": []
  }
 ],
 "metadata": {
  "anaconda-cloud": {},
  "kernelspec": {
   "display_name": "Python [conda root]",
   "language": "python",
   "name": "conda-root-py"
  },
  "language_info": {
   "codemirror_mode": {
    "name": "ipython",
    "version": 3
   },
   "file_extension": ".py",
   "mimetype": "text/x-python",
   "name": "python",
   "nbconvert_exporter": "python",
   "pygments_lexer": "ipython3",
   "version": "3.5.2"
  }
 },
 "nbformat": 4,
 "nbformat_minor": 2
}
