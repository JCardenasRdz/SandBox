{
 "cells": [
  {
   "cell_type": "markdown",
   "metadata": {},
   "source": [
    "# Classification of MNIST dataset digits\n",
    "## Labels = 10\n",
    "## Training Samples =  60,000\n",
    "## Testing Samples =   10,000"
   ]
  },
  {
   "cell_type": "code",
   "execution_count": 9,
   "metadata": {
    "collapsed": false
   },
   "outputs": [],
   "source": [
    "# Modules\n",
    "from PIL import Image\n",
    "import dhash\n",
    "import numpy as np\n",
    "import scipy\n",
    "from keras.datasets import mnist\n",
    "import matplotlib.pyplot as plt\n",
    "from scipy.stats import randint as sp_randint\n",
    "from sklearn.model_selection import RandomizedSearchCV\n",
    "from sklearn import tree\n",
    "from sklearn import metrics\n",
    "from sklearn.ensemble import RandomForestClassifier\n",
    "from keras import utils\n",
    "%matplotlib inline\n",
    "np.random.seed(123)  # for reproducibility\n"
   ]
  },
  {
   "cell_type": "markdown",
   "metadata": {},
   "source": [
    "## 2. Load MNIST data from keras"
   ]
  },
  {
   "cell_type": "code",
   "execution_count": 4,
   "metadata": {
    "collapsed": false
   },
   "outputs": [],
   "source": [
    "(X_train, Y_train), (X_test, Y_test) = mnist.load_data()"
   ]
  },
  {
   "cell_type": "code",
   "execution_count": 5,
   "metadata": {
    "collapsed": false
   },
   "outputs": [
    {
     "data": {
      "image/png": "[encoded data removed]",
      "text/plain": [
       "<matplotlib.figure.Figure at 0x10e3d3080>"
      ]
     },
     "metadata": {},
     "output_type": "display_data"
    }
   ],
   "source": [
    "plt.figure(figsize=(5,5))\n",
    "for i in range(9):\n",
    "    plt.subplot(3,3,1+i)\n",
    "    plt.imshow(X_train[i])\n",
    "    plt.title(  str(Y_train[i])  )"
   ]
  },
  {
   "cell_type": "markdown",
   "metadata": {},
   "source": [
    "## 3. Image Hashing on rows and columns  for training set"
   ]
  },
  {
   "cell_type": "code",
   "execution_count": 6,
   "metadata": {
    "collapsed": false
   },
   "outputs": [],
   "source": [
    "# size of image and output format\n",
    "size = 9\n",
    "format_ = '0' + str(size**2) + 'b'\n",
    "X = X_train\n",
    "\n",
    "#preallocate\n",
    "X_train_hashed = np.zeros((X.shape[0], size**2 * 2));\n",
    "\n",
    "for idx , Img in enumerate(X):\n",
    "    row, col = dhash.dhash_row_col( Image.fromarray(Img) , size = size)\n",
    "    hash_ = format(row, format_) + format(col, format_)\n",
    "    # hash_ is string\n",
    "    for colidx,num in enumerate(hash_):\n",
    "        X_train_hashed[idx,colidx] = int(num)"
   ]
  },
  {
   "cell_type": "markdown",
   "metadata": {},
   "source": [
    "## 4. Image Hashing on rows and columns  for training set"
   ]
  },
  {
   "cell_type": "code",
   "execution_count": 7,
   "metadata": {
    "collapsed": false
   },
   "outputs": [],
   "source": [
    "X = X_test\n",
    "\n",
    "X_test_hashed = np.zeros((X.shape[0], size**2 * 2));\n",
    "\n",
    "for idx , Img in enumerate(X):\n",
    "    row, col = dhash.dhash_row_col( Image.fromarray(Img) , size = size)\n",
    "    hash_ = format(row, format_) + format(col, format_)\n",
    "    \n",
    "    # hash_ is string\n",
    "    for col,num in enumerate(hash_):\n",
    "        X_test_hashed[idx,col] = int(num)"
   ]
  },
  {
   "cell_type": "markdown",
   "metadata": {},
   "source": [
    "## 5. Default outcome encoding and random forest classifier"
   ]
  },
  {
   "cell_type": "code",
   "execution_count": 10,
   "metadata": {
    "collapsed": false
   },
   "outputs": [
    {
     "name": "stdout",
     "output_type": "stream",
     "text": [
      "Classification Report:\n",
      "             precision    recall  f1-score   support\n",
      "\n",
      "          0       0.95      0.98      0.97       980\n",
      "          1       0.99      0.99      0.99      1135\n",
      "          2       0.95      0.94      0.94      1032\n",
      "          3       0.93      0.93      0.93      1010\n",
      "          4       0.96      0.95      0.95       982\n",
      "          5       0.94      0.94      0.94       892\n",
      "          6       0.95      0.97      0.96       958\n",
      "          7       0.95      0.95      0.95      1028\n",
      "          8       0.94      0.93      0.93       974\n",
      "          9       0.95      0.93      0.94      1009\n",
      "\n",
      "avg / total       0.95      0.95      0.95     10000\n",
      "\n"
     ]
    }
   ],
   "source": [
    "Yreal = Y_test\n",
    "ytrain = Y_train\n",
    "\n",
    "# train\n",
    "RFC = RandomForestClassifier(n_estimators=100)\n",
    "RFC = RFC.fit(X_train_hashed, ytrain)\n",
    "\n",
    "# predict\n",
    "y_pred = RFC.predict(X_test_hashed)\n",
    "\n",
    "# evaluate\n",
    "print(\"Classification Report:\\n%s\" % metrics.classification_report(Yreal, y_pred))"
   ]
  },
  {
   "cell_type": "markdown",
   "metadata": {},
   "source": [
    "## 6. OneHot outcome encoding and random forest classifier"
   ]
  },
  {
   "cell_type": "code",
   "execution_count": 11,
   "metadata": {
    "collapsed": false
   },
   "outputs": [
    {
     "name": "stdout",
     "output_type": "stream",
     "text": [
      "Classification Report:\n",
      "             precision    recall  f1-score   support\n",
      "\n",
      "          0       1.00      0.93      0.96       980\n",
      "          1       1.00      0.97      0.98      1135\n",
      "          2       0.99      0.82      0.90      1032\n",
      "          3       0.99      0.80      0.88      1010\n",
      "          4       1.00      0.81      0.89       982\n",
      "          5       0.99      0.77      0.86       892\n",
      "          6       0.99      0.89      0.94       958\n",
      "          7       0.99      0.84      0.91      1028\n",
      "          8       0.99      0.72      0.83       974\n",
      "          9       0.98      0.82      0.89      1009\n",
      "\n",
      "avg / total       0.99      0.84      0.91     10000\n",
      "\n"
     ]
    }
   ],
   "source": [
    "Yreal = utils.to_categorical(Y_test)\n",
    "ytrain = utils.to_categorical(Y_train)\n",
    "\n",
    "# train\n",
    "RFC = RandomForestClassifier(n_estimators=100)\n",
    "RFC = RFC.fit(X_train_hashed, ytrain)\n",
    "\n",
    "# predict\n",
    "y_pred = RFC.predict(X_test_hashed)\n",
    "\n",
    "# evaluate\n",
    "print(\"Classification Report:\\n%s\" % metrics.classification_report(Yreal, y_pred))"
   ]
  }
 ],
 "metadata": {
  "anaconda-cloud": {},
  "kernelspec": {
   "display_name": "Python [conda root]",
   "language": "python",
   "name": "conda-root-py"
  },
  "language_info": {
   "codemirror_mode": {
    "name": "ipython",
    "version": 3
   },
   "file_extension": ".py",
   "mimetype": "text/x-python",
   "name": "python",
   "nbconvert_exporter": "python",
   "pygments_lexer": "ipython3",
   "version": "3.5.2"
  }
 },
 "nbformat": 4,
 "nbformat_minor": 2
}
