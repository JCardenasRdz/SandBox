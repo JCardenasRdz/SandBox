{
 "cells": [
  {
   "cell_type": "code",
   "execution_count": 111,
   "metadata": {
    "collapsed": true
   },
   "outputs": [],
   "source": [
    "# modules\n",
    "from BraTS2017.load import *\n",
    "import pandas as pd\n",
    "\n",
    "# Brats17_TCIA_167_1\n",
    "# 240, 240, 155\n",
    "\n",
    "# Paths\n",
    "StartDir = '/Volumes/Data-Julio'\n",
    "ListDir = './data/survival_data.csv'\n",
    "rows = 240\n",
    "cols = 240\n",
    "cuts = 155"
   ]
  },
  {
   "cell_type": "code",
   "execution_count": 112,
   "metadata": {
    "collapsed": true
   },
   "outputs": [],
   "source": [
    "# list\n",
    "Patients = get_patient_list(ListDir)\n",
    "num_patients = len(Patients)\n",
    "\n",
    "# count classes for all patients\n",
    "M= [count_classes(StartDir, Patient) for Patient in Patients]\n",
    "Classes_DataFrame = pd.concat(M,axis = 1)"
   ]
  },
  {
   "cell_type": "code",
   "execution_count": 43,
   "metadata": {},
   "outputs": [
    {
     "data": {
      "text/html": [
       "<div>\n",
       "<style>\n",
       "    .dataframe thead tr:only-child th {\n",
       "        text-align: right;\n",
       "    }\n",
       "\n",
       "    .dataframe thead th {\n",
       "        text-align: left;\n",
       "    }\n",
       "\n",
       "    .dataframe tbody tr th {\n",
       "        vertical-align: top;\n",
       "    }\n",
       "</style>\n",
       "<table border=\"1\" class=\"dataframe\">\n",
       "  <thead>\n",
       "    <tr style=\"text-align: right;\">\n",
       "      <th></th>\n",
       "      <th>Brats17ID</th>\n",
       "      <th>Non-Tumor</th>\n",
       "      <th>ET</th>\n",
       "      <th>TC</th>\n",
       "      <th>WT</th>\n",
       "    </tr>\n",
       "  </thead>\n",
       "  <tbody>\n",
       "    <tr>\n",
       "      <th>0</th>\n",
       "      <td>Brats17_TCIA_167_1</td>\n",
       "      <td>8764388</td>\n",
       "      <td>26654</td>\n",
       "      <td>57398</td>\n",
       "      <td>79560</td>\n",
       "    </tr>\n",
       "    <tr>\n",
       "      <th>1</th>\n",
       "      <td>Brats17_TCIA_242_1</td>\n",
       "      <td>8771394</td>\n",
       "      <td>9087</td>\n",
       "      <td>88963</td>\n",
       "      <td>58556</td>\n",
       "    </tr>\n",
       "    <tr>\n",
       "      <th>2</th>\n",
       "      <td>Brats17_TCIA_319_1</td>\n",
       "      <td>8884119</td>\n",
       "      <td>11694</td>\n",
       "      <td>17488</td>\n",
       "      <td>14699</td>\n",
       "    </tr>\n",
       "  </tbody>\n",
       "</table>\n",
       "</div>"
      ],
      "text/plain": [
       "            Brats17ID  Non-Tumor     ET     TC     WT\n",
       "0  Brats17_TCIA_167_1    8764388  26654  57398  79560\n",
       "1  Brats17_TCIA_242_1    8771394   9087  88963  58556\n",
       "2  Brats17_TCIA_319_1    8884119  11694  17488  14699"
      ]
     },
     "execution_count": 43,
     "metadata": {},
     "output_type": "execute_result"
    }
   ],
   "source": [
    "Volumes_DF = Classes_DataFrame.T.reset_index();\n",
    "Volumes_DF.columns = ['Brats17ID','Non-Tumor','ET','TC','WT']\n"
   ]
  },
  {
   "cell_type": "code",
   "execution_count": 45,
   "metadata": {},
   "outputs": [
    {
     "data": {
      "text/html": [
       "<div>\n",
       "<style>\n",
       "    .dataframe thead tr:only-child th {\n",
       "        text-align: right;\n",
       "    }\n",
       "\n",
       "    .dataframe thead th {\n",
       "        text-align: left;\n",
       "    }\n",
       "\n",
       "    .dataframe tbody tr th {\n",
       "        vertical-align: top;\n",
       "    }\n",
       "</style>\n",
       "<table border=\"1\" class=\"dataframe\">\n",
       "  <thead>\n",
       "    <tr style=\"text-align: right;\">\n",
       "      <th></th>\n",
       "      <th>Non-Tumor</th>\n",
       "      <th>ET</th>\n",
       "      <th>TC</th>\n",
       "      <th>WT</th>\n",
       "      <th>Age</th>\n",
       "      <th>Survival</th>\n",
       "    </tr>\n",
       "    <tr>\n",
       "      <th>Brats17ID</th>\n",
       "      <th></th>\n",
       "      <th></th>\n",
       "      <th></th>\n",
       "      <th></th>\n",
       "      <th></th>\n",
       "      <th></th>\n",
       "    </tr>\n",
       "  </thead>\n",
       "  <tbody>\n",
       "    <tr>\n",
       "      <th>Brats17_TCIA_167_1</th>\n",
       "      <td>8764388</td>\n",
       "      <td>26654</td>\n",
       "      <td>57398</td>\n",
       "      <td>79560</td>\n",
       "      <td>74.907</td>\n",
       "      <td>153</td>\n",
       "    </tr>\n",
       "    <tr>\n",
       "      <th>Brats17_TCIA_242_1</th>\n",
       "      <td>8771394</td>\n",
       "      <td>9087</td>\n",
       "      <td>88963</td>\n",
       "      <td>58556</td>\n",
       "      <td>66.479</td>\n",
       "      <td>147</td>\n",
       "    </tr>\n",
       "  </tbody>\n",
       "</table>\n",
       "</div>"
      ],
      "text/plain": [
       "                    Non-Tumor     ET     TC     WT     Age  Survival\n",
       "Brats17ID                                                           \n",
       "Brats17_TCIA_167_1    8764388  26654  57398  79560  74.907       153\n",
       "Brats17_TCIA_242_1    8771394   9087  88963  58556  66.479       147"
      ]
     },
     "execution_count": 45,
     "metadata": {},
     "output_type": "execute_result"
    }
   ],
   "source": [
    "Volumes_DF = pd.merge(Volumes,pd.read_csv(ListDir)).set_index('Brats17ID')\n",
    "print(Volumes_DF.head(3))"
   ]
  },
  {
   "cell_type": "code",
   "execution_count": 103,
   "metadata": {
    "collapsed": true
   },
   "outputs": [],
   "source": [
    "X = Volumes_DF[Volumes_DF.columns[1:5]].values\n",
    "y = Volumes_DF['Survival'].values"
   ]
  },
  {
   "cell_type": "code",
   "execution_count": 104,
   "metadata": {},
   "outputs": [
    {
     "data": {
      "text/plain": [
       "(163, 5)"
      ]
     },
     "execution_count": 104,
     "metadata": {},
     "output_type": "execute_result"
    }
   ],
   "source": [
    "X.shape"
   ]
  },
  {
   "cell_type": "code",
   "execution_count": 105,
   "metadata": {},
   "outputs": [
    {
     "data": {
      "text/plain": [
       "RandomForestRegressor(bootstrap=True, criterion='mse', max_depth=None,\n",
       "           max_features='auto', max_leaf_nodes=None,\n",
       "           min_impurity_split=1e-07, min_samples_leaf=1,\n",
       "           min_samples_split=2, min_weight_fraction_leaf=0.0,\n",
       "           n_estimators=100, n_jobs=1, oob_score=False, random_state=None,\n",
       "           verbose=0, warm_start=False)"
      ]
     },
     "execution_count": 105,
     "metadata": {},
     "output_type": "execute_result"
    }
   ],
   "source": [
    "from sklearn.ensemble import RandomForestRegressor\n",
    "from sklearn.model_selection import train_test_split\n",
    "\n",
    "X_train, X_test, y_train, y_test = train_test_split(X,y, test_size = 0.3, random_state= 99)\n",
    "\n",
    "Regressor = RandomForestRegressor(n_estimators = 100)\n",
    "\n",
    "Regressor.fit(X_train,y_train)"
   ]
  },
  {
   "cell_type": "code",
   "execution_count": 115,
   "metadata": {
    "collapsed": true
   },
   "outputs": [],
   "source": [
    "from tensorly.regression.kruskal_regression import KruskalRegressor\n",
    "KruskalRegressor?"
   ]
  },
  {
   "cell_type": "code",
   "execution_count": 120,
   "metadata": {
    "collapsed": true
   },
   "outputs": [],
   "source": [
    "Xtensor_flair = np.zeros((num_patients,rows,cols,cuts))\n",
    "Xtensor_t1 = np.zeros((num_patients,rows,cols,cuts))\n",
    "Xtensor_t2 = np.zeros((num_patients,rows,cols,cuts))\n",
    "\n",
    "for idx, patient in enumerate(Patients):\n",
    "    I = load_data(StartDir, Patients[0], element='flair')\n",
    "    Xtensor_flair[idx,...] = I"
   ]
  },
  {
   "cell_type": "code",
   "execution_count": null,
   "metadata": {
    "collapsed": true
   },
   "outputs": [],
   "source": [
    "Regressor= KruskalRegressor(2, tol=1e-06, reg_W=1, n_iter_max=100, random_state= 99, verbose=1)\n",
    "Regressor.fit(Xtensor_flair, y)"
   ]
  },
  {
   "cell_type": "code",
   "execution_count": null,
   "metadata": {
    "collapsed": true
   },
   "outputs": [],
   "source": [
    "Xtensor.shape"
   ]
  },
  {
   "cell_type": "code",
   "execution_count": 121,
   "metadata": {},
   "outputs": [
    {
     "data": {
      "text/plain": [
       "(163, 240, 240, 155)"
      ]
     },
     "execution_count": 121,
     "metadata": {},
     "output_type": "execute_result"
    }
   ],
   "source": [
    "Xtensor_flair.shape"
   ]
  },
  {
   "cell_type": "code",
   "execution_count": 122,
   "metadata": {},
   "outputs": [
    {
     "data": {
      "text/plain": [
       "array([ 153,  147,  254,  519,  346,   82,  508,   77, 1458,  244,  213,\n",
       "          5,   99,  434,  232,   30,  333,  476,  121,  372,  626,  296,\n",
       "        448,  635,  327, 1282,  382,   22,  425,  467,   82,  468,  103,\n",
       "        946,  747,  357,  175,  621,  405,  317,  828,  111,  616,  127,\n",
       "       1731,  104,  329,  424,  262,   71,   67,  362,  737,  812,  394,\n",
       "        187,   82, 1489,  355,  822,  268, 1561,  634,  804,  600,  291,\n",
       "        199,  448,  209,  110,  430,   86,  370,  630,  322,  558,  150,\n",
       "        120,  436,  510,  401,  448,  734,   58,  387,   50,  191,  114,\n",
       "        394,  345,  438,  168, 1767,  375,  139,  180,  387,  614,  579,\n",
       "         12, 1337,  376, 1592,  453,  385,  152,  355,  208,  610,  239,\n",
       "        597,   85,  265,  407,  522,  660,  208,  318,  210,  871,  495,\n",
       "        726,  286,  229,   84,   30,  172,   89,   33, 1283,  473,  488,\n",
       "        170,  466,   32,  106,  336,  203,   23,  331,  332,  350,  576,\n",
       "         55,  287,  486,  439,  368,  169,  359,  698,  495,  421,  515,\n",
       "       1155, 1278,  503,  269,  465,  788,  464,  616,  289])"
      ]
     },
     "execution_count": 122,
     "metadata": {},
     "output_type": "execute_result"
    }
   ],
   "source": [
    "y"
   ]
  },
  {
   "cell_type": "code",
   "execution_count": null,
   "metadata": {
    "collapsed": true
   },
   "outputs": [],
   "source": []
  }
 ],
 "metadata": {
  "anaconda-cloud": {},
  "kernelspec": {
   "display_name": "Python [conda root]",
   "language": "python",
   "name": "conda-root-py"
  },
  "language_info": {
   "codemirror_mode": {
    "name": "ipython",
    "version": 3
   },
   "file_extension": ".py",
   "mimetype": "text/x-python",
   "name": "python",
   "nbconvert_exporter": "python",
   "pygments_lexer": "ipython3",
   "version": "3.5.2"
  }
 },
 "nbformat": 4,
 "nbformat_minor": 2
}
