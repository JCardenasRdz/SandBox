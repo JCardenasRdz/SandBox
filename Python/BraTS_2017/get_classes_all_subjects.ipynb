{
 "cells": [
  {
   "cell_type": "code",
   "execution_count": 84,
   "metadata": {
    "collapsed": true
   },
   "outputs": [],
   "source": [
    "# modules\n",
    "import nibabel as nib\n",
    "import pandas as pd\n",
    "import os\n",
    "import numpy\n",
    "from matplotlib import pyplot, cm\n",
    "# Brats17_TCIA_167_1\n",
    "# 240, 240, 155\n",
    "\n",
    "# Paths\n",
    "StartDir = '/Volumes/Data-Julio'\n",
    "ListDir = './data/survival_data.csv'"
   ]
  },
  {
   "cell_type": "code",
   "execution_count": 2,
   "metadata": {
    "collapsed": true
   },
   "outputs": [],
   "source": [
    "def get_patient_list(path_):\n",
    "    df = pd.read_csv(path_)\n",
    "    patient_list_ = df[df.columns[0]].values\n",
    "    return patient_list_\n",
    "    "
   ]
  },
  {
   "cell_type": "code",
   "execution_count": 86,
   "metadata": {},
   "outputs": [],
   "source": [
    "def get_path_and_files(DirPath, patientID):\n",
    "    for dirName, subdirList, fileList in os.walk(DirPath):\n",
    "        if dirName.split('/')[-1] == patientID:\n",
    "            path_to_patient = dirName\n",
    "            file_list = fileList\n",
    "        \n",
    "    return path_to_patient, file_list\n",
    "\n",
    "def load_data(DirPath,patientID, element = 'flair'):\n",
    "    if element == 'flair':\n",
    "        experiment = 0\n",
    "    \n",
    "    elif element == 'seg':\n",
    "        experiment = 1\n",
    "    \n",
    "    elif element == 't1':\n",
    "        experiment = 2\n",
    "        \n",
    "    elif element == 't1ce':\n",
    "        experiment = 3\n",
    "    \n",
    "    elif element == 't1ce':\n",
    "        experiment = 4\n",
    "        \n",
    "    path_to_patient, file_list = get_path_and_files(DirPath, patientID)\n",
    "    full_path = os.path.join(path_to_patient, file_list[  experiment ])\n",
    "    I = nib.load(full_path).get_data()\n",
    "\n",
    "    return I\n",
    "    \n",
    "\n",
    "def count_classes(DirPath,patientID):\n",
    "    # load and flatten data\n",
    "    #I = load_data(DirPath, patientID, element = 'seg').flatten()\n",
    "    #df = pd.DataFrame(I, columns=['Class'])\n",
    "    #df[patientID] = 1\n",
    "    #df = df.groupby(['Class']).count()\n",
    "    \n",
    "    I = load_data(DirPath,patientID, element = 'seg').flatten()\n",
    "    df = pd.DataFrame(I, columns=[patientID])\n",
    "    df = df[patientID].value_counts()\n",
    " \n",
    "        \n",
    "    return df\n",
    "    "
   ]
  },
  {
   "cell_type": "code",
   "execution_count": 95,
   "metadata": {},
   "outputs": [],
   "source": [
    "# list\n",
    "Patients = get_patient_list(ListDir)\n",
    "\n",
    "# count classes for all patients\n",
    "M= [count_classes(StartDir, Patient) for Patient in Patients]\n",
    "Classes_DataFrame = pd.concat(M,axis = 1)"
   ]
  },
  {
   "cell_type": "code",
   "execution_count": 102,
   "metadata": {},
   "outputs": [
    {
     "data": {
      "text/html": [
       "<div>\n",
       "<style>\n",
       "    .dataframe thead tr:only-child th {\n",
       "        text-align: right;\n",
       "    }\n",
       "\n",
       "    .dataframe thead th {\n",
       "        text-align: left;\n",
       "    }\n",
       "\n",
       "    .dataframe tbody tr th {\n",
       "        vertical-align: top;\n",
       "    }\n",
       "</style>\n",
       "<table border=\"1\" class=\"dataframe\">\n",
       "  <thead>\n",
       "    <tr style=\"text-align: right;\">\n",
       "      <th></th>\n",
       "      <th>0</th>\n",
       "      <th>1</th>\n",
       "      <th>2</th>\n",
       "      <th>4</th>\n",
       "    </tr>\n",
       "  </thead>\n",
       "  <tbody>\n",
       "    <tr>\n",
       "      <th>Brats17_TCIA_167_1</th>\n",
       "      <td>8764388</td>\n",
       "      <td>26654</td>\n",
       "      <td>57398</td>\n",
       "      <td>79560</td>\n",
       "    </tr>\n",
       "    <tr>\n",
       "      <th>Brats17_TCIA_242_1</th>\n",
       "      <td>8771394</td>\n",
       "      <td>9087</td>\n",
       "      <td>88963</td>\n",
       "      <td>58556</td>\n",
       "    </tr>\n",
       "    <tr>\n",
       "      <th>Brats17_TCIA_319_1</th>\n",
       "      <td>8884119</td>\n",
       "      <td>11694</td>\n",
       "      <td>17488</td>\n",
       "      <td>14699</td>\n",
       "    </tr>\n",
       "    <tr>\n",
       "      <th>Brats17_TCIA_469_1</th>\n",
       "      <td>8723758</td>\n",
       "      <td>28927</td>\n",
       "      <td>130784</td>\n",
       "      <td>44531</td>\n",
       "    </tr>\n",
       "    <tr>\n",
       "      <th>Brats17_TCIA_218_1</th>\n",
       "      <td>8845079</td>\n",
       "      <td>3274</td>\n",
       "      <td>62021</td>\n",
       "      <td>17626</td>\n",
       "    </tr>\n",
       "  </tbody>\n",
       "</table>\n",
       "</div>"
      ],
      "text/plain": [
       "                          0      1       2      4\n",
       "Brats17_TCIA_167_1  8764388  26654   57398  79560\n",
       "Brats17_TCIA_242_1  8771394   9087   88963  58556\n",
       "Brats17_TCIA_319_1  8884119  11694   17488  14699\n",
       "Brats17_TCIA_469_1  8723758  28927  130784  44531\n",
       "Brats17_TCIA_218_1  8845079   3274   62021  17626"
      ]
     },
     "execution_count": 102,
     "metadata": {},
     "output_type": "execute_result"
    }
   ],
   "source": [
    "import numpy as np\n",
    "Classes_DataFrame.T.head(5)"
   ]
  },
  {
   "cell_type": "code",
   "execution_count": 104,
   "metadata": {},
   "outputs": [
    {
     "data": {
      "text/plain": [
       "array([[[0, 0, 0, ..., 0, 0, 0],\n",
       "        [0, 0, 0, ..., 0, 0, 0],\n",
       "        [0, 0, 0, ..., 0, 0, 0],\n",
       "        ..., \n",
       "        [0, 0, 0, ..., 0, 0, 0],\n",
       "        [0, 0, 0, ..., 0, 0, 0],\n",
       "        [0, 0, 0, ..., 0, 0, 0]],\n",
       "\n",
       "       [[0, 0, 0, ..., 0, 0, 0],\n",
       "        [0, 0, 0, ..., 0, 0, 0],\n",
       "        [0, 0, 0, ..., 0, 0, 0],\n",
       "        ..., \n",
       "        [0, 0, 0, ..., 0, 0, 0],\n",
       "        [0, 0, 0, ..., 0, 0, 0],\n",
       "        [0, 0, 0, ..., 0, 0, 0]],\n",
       "\n",
       "       [[0, 0, 0, ..., 0, 0, 0],\n",
       "        [0, 0, 0, ..., 0, 0, 0],\n",
       "        [0, 0, 0, ..., 0, 0, 0],\n",
       "        ..., \n",
       "        [0, 0, 0, ..., 0, 0, 0],\n",
       "        [0, 0, 0, ..., 0, 0, 0],\n",
       "        [0, 0, 0, ..., 0, 0, 0]],\n",
       "\n",
       "       ..., \n",
       "       [[0, 0, 0, ..., 0, 0, 0],\n",
       "        [0, 0, 0, ..., 0, 0, 0],\n",
       "        [0, 0, 0, ..., 0, 0, 0],\n",
       "        ..., \n",
       "        [0, 0, 0, ..., 0, 0, 0],\n",
       "        [0, 0, 0, ..., 0, 0, 0],\n",
       "        [0, 0, 0, ..., 0, 0, 0]],\n",
       "\n",
       "       [[0, 0, 0, ..., 0, 0, 0],\n",
       "        [0, 0, 0, ..., 0, 0, 0],\n",
       "        [0, 0, 0, ..., 0, 0, 0],\n",
       "        ..., \n",
       "        [0, 0, 0, ..., 0, 0, 0],\n",
       "        [0, 0, 0, ..., 0, 0, 0],\n",
       "        [0, 0, 0, ..., 0, 0, 0]],\n",
       "\n",
       "       [[0, 0, 0, ..., 0, 0, 0],\n",
       "        [0, 0, 0, ..., 0, 0, 0],\n",
       "        [0, 0, 0, ..., 0, 0, 0],\n",
       "        ..., \n",
       "        [0, 0, 0, ..., 0, 0, 0],\n",
       "        [0, 0, 0, ..., 0, 0, 0],\n",
       "        [0, 0, 0, ..., 0, 0, 0]]], dtype=uint8)"
      ]
     },
     "execution_count": 104,
     "metadata": {},
     "output_type": "execute_result"
    }
   ],
   "source": [
    "load_data(StartDir,Patients[0], element = 'seg')"
   ]
  },
  {
   "cell_type": "code",
   "execution_count": null,
   "metadata": {
    "collapsed": true
   },
   "outputs": [],
   "source": []
  }
 ],
 "metadata": {
  "anaconda-cloud": {},
  "kernelspec": {
   "display_name": "Python [conda root]",
   "language": "python",
   "name": "conda-root-py"
  },
  "language_info": {
   "codemirror_mode": {
    "name": "ipython",
    "version": 3
   },
   "file_extension": ".py",
   "mimetype": "text/x-python",
   "name": "python",
   "nbconvert_exporter": "python",
   "pygments_lexer": "ipython3",
   "version": "3.5.2"
  }
 },
 "nbformat": 4,
 "nbformat_minor": 2
}
